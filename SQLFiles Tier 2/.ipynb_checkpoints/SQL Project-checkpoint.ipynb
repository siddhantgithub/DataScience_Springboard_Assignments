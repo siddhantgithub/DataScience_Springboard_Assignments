{
 "cells": [
  {
   "cell_type": "code",
   "execution_count": 5,
   "id": "0bac4037",
   "metadata": {},
   "outputs": [],
   "source": [
    "from sqlalchemy import create_engine\n",
    "import pandas as pd"
   ]
  },
  {
   "cell_type": "code",
   "execution_count": 6,
   "id": "18a396a8",
   "metadata": {},
   "outputs": [],
   "source": [
    "engine = create_engine('sqlite:///sqlite_db_pythonsqlite.db')"
   ]
  },
  {
   "cell_type": "code",
   "execution_count": null,
   "id": "e858ad3d",
   "metadata": {},
   "outputs": [],
   "source": [
    "SQL_STRING = "
   ]
  },
  {
   "cell_type": "code",
   "execution_count": 13,
   "id": "f3827f4a",
   "metadata": {},
   "outputs": [
    {
     "name": "stdout",
     "output_type": "stream",
     "text": [
      "      Total_Cost\n",
      "3005       640.0\n",
      "3459       640.0\n",
      "2557       640.0\n",
      "668        480.0\n",
      "3258       480.0\n",
      "...          ...\n",
      "1903         0.0\n",
      "1904         0.0\n",
      "1905         0.0\n",
      "1906         0.0\n",
      "4042         0.0\n",
      "\n",
      "[4043 rows x 1 columns]\n"
     ]
    }
   ],
   "source": [
    "with engine.connect() as con:\n",
    "    rs = con.execute(\"\"\"SELECT facid, CASE \n",
    "        WHEN B.memid = 0 THEN F.guestcost * B.slots\n",
    "        ELSE F.membercost * B.slots\n",
    "    END AS Total_Cost    \n",
    "FROM Bookings AS B\n",
    "INNER JOIN Facilities as F on B.facid = F.facid\"\"\")\n",
    "    df = pd.DataFrame(rs.fetchall())\n",
    "    df.columns = rs.keys()\n",
    "\n",
    "# Print the head of the DataFrame df\n",
    "print(df.sort_values(by=\"Total_Cost\", ascending=False))"
   ]
  },
  {
   "cell_type": "code",
   "execution_count": null,
   "id": "efcbdee3",
   "metadata": {},
   "outputs": [],
   "source": []
  }
 ],
 "metadata": {
  "kernelspec": {
   "display_name": "Python 3 (ipykernel)",
   "language": "python",
   "name": "python3"
  },
  "language_info": {
   "codemirror_mode": {
    "name": "ipython",
    "version": 3
   },
   "file_extension": ".py",
   "mimetype": "text/x-python",
   "name": "python",
   "nbconvert_exporter": "python",
   "pygments_lexer": "ipython3",
   "version": "3.11.5"
  }
 },
 "nbformat": 4,
 "nbformat_minor": 5
}
